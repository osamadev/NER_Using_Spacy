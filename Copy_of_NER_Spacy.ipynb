{
  "nbformat": 4,
  "nbformat_minor": 0,
  "metadata": {
    "colab": {
      "name": "Copy of NER_Spacy.ipynb",
      "version": "0.3.2",
      "provenance": [],
      "collapsed_sections": [],
      "include_colab_link": true
    },
    "kernelspec": {
      "name": "python3",
      "display_name": "Python 3"
    },
    "accelerator": "GPU"
  },
  "cells": [
    {
      "cell_type": "markdown",
      "metadata": {
        "id": "view-in-github",
        "colab_type": "text"
      },
      "source": [
        "<a href=\"https://colab.research.google.com/github/osamadev/NER_Using_Spacy/blob/master/Copy_of_NER_Spacy.ipynb\" target=\"_parent\"><img src=\"https://colab.research.google.com/assets/colab-badge.svg\" alt=\"Open In Colab\"/></a>"
      ]
    },
    {
      "metadata": {
        "deletable": true,
        "editable": true,
        "id": "1V1rLUv3bGM0",
        "colab_type": "text"
      },
      "cell_type": "markdown",
      "source": [
        "# Training a new custom entity type \"STREET_NAME\" Using Spacy\n"
      ]
    },
    {
      "metadata": {
        "deletable": true,
        "editable": true,
        "id": "gGvdC9Q4bGM5",
        "colab_type": "code",
        "colab": {}
      },
      "cell_type": "code",
      "source": [
        "# Load all the required python libraries and modules\n",
        "\n",
        "from __future__ import unicode_literals, print_function\n",
        "import numpy as np\n",
        "import pandas as pd\n",
        "\n",
        "import spacy\n",
        "from spacy import displacy\n",
        "from spacy.util import minibatch, compounding\n",
        "\n",
        "from sklearn.utils import shuffle\n",
        "import random\n",
        "from pathlib import Path\n",
        "from collections import Counter\n",
        "\n",
        "from matplotlib import pyplot as plt\n",
        "%matplotlib inline\n",
        "\n",
        "import pprint\n",
        "pp = pprint.PrettyPrinter(indent=4)\n",
        "\n",
        "import en_core_web_sm as en"
      ],
      "execution_count": 0,
      "outputs": []
    },
    {
      "metadata": {
        "deletable": true,
        "editable": true,
        "id": "bQC-Czg5bGO8",
        "colab_type": "code",
        "outputId": "8ae21998-7e9c-4cbd-bff1-2b2f1663dc63",
        "colab": {
          "base_uri": "https://localhost:8080/",
          "height": 617
        }
      },
      "cell_type": "code",
      "source": [
        "addresses_df = pd.read_csv('/content/drive/My Drive/Colab Notebooks/data/adresser.csv')\n",
        "\n",
        "addresses_df.replace('', np.nan, inplace=True)\n",
        "\n",
        "addresses_df = shuffle(addresses_df)\n",
        "\n",
        "addresses_df.head(n=10)"
      ],
      "execution_count": 3,
      "outputs": [
        {
          "output_type": "execute_result",
          "data": {
            "text/html": [
              "<div>\n",
              "<style scoped>\n",
              "    .dataframe tbody tr th:only-of-type {\n",
              "        vertical-align: middle;\n",
              "    }\n",
              "\n",
              "    .dataframe tbody tr th {\n",
              "        vertical-align: top;\n",
              "    }\n",
              "\n",
              "    .dataframe thead th {\n",
              "        text-align: right;\n",
              "    }\n",
              "</style>\n",
              "<table border=\"1\" class=\"dataframe\">\n",
              "  <thead>\n",
              "    <tr style=\"text-align: right;\">\n",
              "      <th></th>\n",
              "      <th>road code</th>\n",
              "      <th>Street Name</th>\n",
              "      <th>addressing road name</th>\n",
              "      <th>house number</th>\n",
              "      <th>Additional city name</th>\n",
              "      <th>postnr</th>\n",
              "      <th>Postal Code Name</th>\n",
              "      <th>storm recipient zip code</th>\n",
              "      <th>stormodtagerpostnrnavn</th>\n",
              "      <th>municipal code</th>\n",
              "      <th>municipality name</th>\n",
              "      <th>owner name</th>\n",
              "      <th>region code</th>\n",
              "      <th>region name</th>\n",
              "      <th>jordstykke_ejerlavnavn (City Name)</th>\n",
              "      <th>Municipality</th>\n",
              "    </tr>\n",
              "  </thead>\n",
              "  <tbody>\n",
              "    <tr>\n",
              "      <th>27075</th>\n",
              "      <td>1472</td>\n",
              "      <td>Sejerbyvej</td>\n",
              "      <td>Sejerbyvej</td>\n",
              "      <td>57</td>\n",
              "      <td>Sejerby</td>\n",
              "      <td>4592</td>\n",
              "      <td>Sejerø</td>\n",
              "      <td>NaN</td>\n",
              "      <td>NaN</td>\n",
              "      <td>326</td>\n",
              "      <td>Kalundborg</td>\n",
              "      <td>Sejerby By, Sejerø</td>\n",
              "      <td>1085</td>\n",
              "      <td>Region Sjælland</td>\n",
              "      <td>Sejerby By, Sejerø</td>\n",
              "      <td>Kalundborg</td>\n",
              "    </tr>\n",
              "    <tr>\n",
              "      <th>7331</th>\n",
              "      <td>412</td>\n",
              "      <td>Flinterupvej</td>\n",
              "      <td>Flinterupvej</td>\n",
              "      <td>61</td>\n",
              "      <td>NaN</td>\n",
              "      <td>4480</td>\n",
              "      <td>Store Fuglede</td>\n",
              "      <td>NaN</td>\n",
              "      <td>NaN</td>\n",
              "      <td>326</td>\n",
              "      <td>Kalundborg</td>\n",
              "      <td>Flinterup By, St. Fuglede</td>\n",
              "      <td>1085</td>\n",
              "      <td>Region Sjælland</td>\n",
              "      <td>Flinterup By, St. Fuglede</td>\n",
              "      <td>Kalundborg</td>\n",
              "    </tr>\n",
              "    <tr>\n",
              "      <th>4631</th>\n",
              "      <td>266</td>\n",
              "      <td>Dortheavej</td>\n",
              "      <td>Dortheavej</td>\n",
              "      <td>4</td>\n",
              "      <td>NaN</td>\n",
              "      <td>4270</td>\n",
              "      <td>Høng</td>\n",
              "      <td>NaN</td>\n",
              "      <td>NaN</td>\n",
              "      <td>326</td>\n",
              "      <td>Kalundborg</td>\n",
              "      <td>Finderup By, Finderup</td>\n",
              "      <td>1085</td>\n",
              "      <td>Region Sjælland</td>\n",
              "      <td>Finderup By, Finderup</td>\n",
              "      <td>Kalundborg</td>\n",
              "    </tr>\n",
              "    <tr>\n",
              "      <th>13423</th>\n",
              "      <td>748</td>\n",
              "      <td>Ingelisevej</td>\n",
              "      <td>Ingelisevej</td>\n",
              "      <td>10</td>\n",
              "      <td>Kaldred</td>\n",
              "      <td>4593</td>\n",
              "      <td>Eskebjerg</td>\n",
              "      <td>NaN</td>\n",
              "      <td>NaN</td>\n",
              "      <td>326</td>\n",
              "      <td>Kalundborg</td>\n",
              "      <td>Torpe By, Bregninge</td>\n",
              "      <td>1085</td>\n",
              "      <td>Region Sjælland</td>\n",
              "      <td>Torpe By, Bregninge</td>\n",
              "      <td>Kalundborg</td>\n",
              "    </tr>\n",
              "    <tr>\n",
              "      <th>2137</th>\n",
              "      <td>124</td>\n",
              "      <td>Birkelunden</td>\n",
              "      <td>Birkelunden</td>\n",
              "      <td>14</td>\n",
              "      <td>NaN</td>\n",
              "      <td>4270</td>\n",
              "      <td>Høng</td>\n",
              "      <td>NaN</td>\n",
              "      <td>NaN</td>\n",
              "      <td>326</td>\n",
              "      <td>Kalundborg</td>\n",
              "      <td>Høng By, Finderup</td>\n",
              "      <td>1085</td>\n",
              "      <td>Region Sjælland</td>\n",
              "      <td>Høng By, Finderup</td>\n",
              "      <td>Kalundborg</td>\n",
              "    </tr>\n",
              "    <tr>\n",
              "      <th>5628</th>\n",
              "      <td>334</td>\n",
              "      <td>Elverhøjen</td>\n",
              "      <td>Elverhøjen</td>\n",
              "      <td>24</td>\n",
              "      <td>NaN</td>\n",
              "      <td>4400</td>\n",
              "      <td>Kalundborg</td>\n",
              "      <td>NaN</td>\n",
              "      <td>NaN</td>\n",
              "      <td>326</td>\n",
              "      <td>Kalundborg</td>\n",
              "      <td>Svenstrup By, Raklev</td>\n",
              "      <td>1085</td>\n",
              "      <td>Region Sjælland</td>\n",
              "      <td>Svenstrup By, Raklev</td>\n",
              "      <td>Kalundborg</td>\n",
              "    </tr>\n",
              "    <tr>\n",
              "      <th>3247</th>\n",
              "      <td>189</td>\n",
              "      <td>Bryggervænget</td>\n",
              "      <td>Bryggervænget</td>\n",
              "      <td>3</td>\n",
              "      <td>NaN</td>\n",
              "      <td>4400</td>\n",
              "      <td>Kalundborg</td>\n",
              "      <td>NaN</td>\n",
              "      <td>NaN</td>\n",
              "      <td>326</td>\n",
              "      <td>Kalundborg</td>\n",
              "      <td>Kalundborg Bygrunde</td>\n",
              "      <td>1085</td>\n",
              "      <td>Region Sjælland</td>\n",
              "      <td>Kalundborg Bygrunde</td>\n",
              "      <td>Kalundborg</td>\n",
              "    </tr>\n",
              "    <tr>\n",
              "      <th>2276</th>\n",
              "      <td>138</td>\n",
              "      <td>Bjerge Byvej</td>\n",
              "      <td>Bjerge Byvej</td>\n",
              "      <td>33</td>\n",
              "      <td>Bjerge</td>\n",
              "      <td>4480</td>\n",
              "      <td>Store Fuglede</td>\n",
              "      <td>NaN</td>\n",
              "      <td>NaN</td>\n",
              "      <td>326</td>\n",
              "      <td>Kalundborg</td>\n",
              "      <td>Bjerge By, Svallerup</td>\n",
              "      <td>1085</td>\n",
              "      <td>Region Sjælland</td>\n",
              "      <td>Bjerge By, Svallerup</td>\n",
              "      <td>Kalundborg</td>\n",
              "    </tr>\n",
              "    <tr>\n",
              "      <th>17819</th>\n",
              "      <td>962</td>\n",
              "      <td>Kystparken</td>\n",
              "      <td>Kystparken</td>\n",
              "      <td>3</td>\n",
              "      <td>NaN</td>\n",
              "      <td>4400</td>\n",
              "      <td>Kalundborg</td>\n",
              "      <td>NaN</td>\n",
              "      <td>NaN</td>\n",
              "      <td>326</td>\n",
              "      <td>Kalundborg</td>\n",
              "      <td>Nyrup By, Raklev</td>\n",
              "      <td>1085</td>\n",
              "      <td>Region Sjælland</td>\n",
              "      <td>Nyrup By, Raklev</td>\n",
              "      <td>Kalundborg</td>\n",
              "    </tr>\n",
              "    <tr>\n",
              "      <th>12306</th>\n",
              "      <td>676</td>\n",
              "      <td>Hovedgaden</td>\n",
              "      <td>Hovedgaden</td>\n",
              "      <td>34</td>\n",
              "      <td>NaN</td>\n",
              "      <td>4270</td>\n",
              "      <td>Høng</td>\n",
              "      <td>NaN</td>\n",
              "      <td>NaN</td>\n",
              "      <td>326</td>\n",
              "      <td>Kalundborg</td>\n",
              "      <td>Høng By, Finderup</td>\n",
              "      <td>1085</td>\n",
              "      <td>Region Sjælland</td>\n",
              "      <td>Høng By, Finderup</td>\n",
              "      <td>Kalundborg</td>\n",
              "    </tr>\n",
              "  </tbody>\n",
              "</table>\n",
              "</div>"
            ],
            "text/plain": [
              "       road code    Street Name addressing road name house number  \\\n",
              "27075       1472     Sejerbyvej           Sejerbyvej           57   \n",
              "7331         412   Flinterupvej         Flinterupvej           61   \n",
              "4631         266     Dortheavej           Dortheavej            4   \n",
              "13423        748    Ingelisevej          Ingelisevej           10   \n",
              "2137         124    Birkelunden          Birkelunden           14   \n",
              "5628         334     Elverhøjen           Elverhøjen           24   \n",
              "3247         189  Bryggervænget        Bryggervænget            3   \n",
              "2276         138   Bjerge Byvej         Bjerge Byvej           33   \n",
              "17819        962     Kystparken           Kystparken            3   \n",
              "12306        676     Hovedgaden           Hovedgaden           34   \n",
              "\n",
              "      Additional city name  postnr Postal Code Name  storm recipient zip code  \\\n",
              "27075              Sejerby    4592           Sejerø                       NaN   \n",
              "7331                   NaN    4480    Store Fuglede                       NaN   \n",
              "4631                   NaN    4270             Høng                       NaN   \n",
              "13423              Kaldred    4593        Eskebjerg                       NaN   \n",
              "2137                   NaN    4270             Høng                       NaN   \n",
              "5628                   NaN    4400       Kalundborg                       NaN   \n",
              "3247                   NaN    4400       Kalundborg                       NaN   \n",
              "2276                Bjerge    4480    Store Fuglede                       NaN   \n",
              "17819                  NaN    4400       Kalundborg                       NaN   \n",
              "12306                  NaN    4270             Høng                       NaN   \n",
              "\n",
              "       stormodtagerpostnrnavn  municipal code municipality name  \\\n",
              "27075                     NaN             326        Kalundborg   \n",
              "7331                      NaN             326        Kalundborg   \n",
              "4631                      NaN             326        Kalundborg   \n",
              "13423                     NaN             326        Kalundborg   \n",
              "2137                      NaN             326        Kalundborg   \n",
              "5628                      NaN             326        Kalundborg   \n",
              "3247                      NaN             326        Kalundborg   \n",
              "2276                      NaN             326        Kalundborg   \n",
              "17819                     NaN             326        Kalundborg   \n",
              "12306                     NaN             326        Kalundborg   \n",
              "\n",
              "                      owner name  region code      region name  \\\n",
              "27075         Sejerby By, Sejerø         1085  Region Sjælland   \n",
              "7331   Flinterup By, St. Fuglede         1085  Region Sjælland   \n",
              "4631       Finderup By, Finderup         1085  Region Sjælland   \n",
              "13423        Torpe By, Bregninge         1085  Region Sjælland   \n",
              "2137           Høng By, Finderup         1085  Region Sjælland   \n",
              "5628        Svenstrup By, Raklev         1085  Region Sjælland   \n",
              "3247         Kalundborg Bygrunde         1085  Region Sjælland   \n",
              "2276        Bjerge By, Svallerup         1085  Region Sjælland   \n",
              "17819           Nyrup By, Raklev         1085  Region Sjælland   \n",
              "12306          Høng By, Finderup         1085  Region Sjælland   \n",
              "\n",
              "      jordstykke_ejerlavnavn (City Name) Municipality  \n",
              "27075                 Sejerby By, Sejerø   Kalundborg  \n",
              "7331           Flinterup By, St. Fuglede   Kalundborg  \n",
              "4631               Finderup By, Finderup   Kalundborg  \n",
              "13423                Torpe By, Bregninge   Kalundborg  \n",
              "2137                   Høng By, Finderup   Kalundborg  \n",
              "5628                Svenstrup By, Raklev   Kalundborg  \n",
              "3247                 Kalundborg Bygrunde   Kalundborg  \n",
              "2276                Bjerge By, Svallerup   Kalundborg  \n",
              "17819                   Nyrup By, Raklev   Kalundborg  \n",
              "12306                  Høng By, Finderup   Kalundborg  "
            ]
          },
          "metadata": {
            "tags": []
          },
          "execution_count": 3
        }
      ]
    },
    {
      "metadata": {
        "id": "OIT34HS4bGPA",
        "colab_type": "code",
        "outputId": "c7e61618-3e9b-4b9b-fc09-22d6ebb33fe2",
        "colab": {
          "base_uri": "https://localhost:8080/",
          "height": 34
        }
      },
      "cell_type": "code",
      "source": [
        "pp.pprint(addresses_df.shape)"
      ],
      "execution_count": 4,
      "outputs": [
        {
          "output_type": "stream",
          "text": [
            "(37288, 16)\n"
          ],
          "name": "stdout"
        }
      ]
    },
    {
      "metadata": {
        "id": "sRIYmjKNbGPE",
        "colab_type": "code",
        "outputId": "6c8b596b-012c-4e62-f421-62cf2eb5adbd",
        "colab": {
          "base_uri": "https://localhost:8080/",
          "height": 357
        }
      },
      "cell_type": "code",
      "source": [
        "training_data = []\n",
        "\n",
        "# define new entity label for street address (STREET_NAME)\n",
        "label = 'STREET_NAME'\n",
        "\n",
        "sentences_templates = [\"I live in {0}\", \"Friend of mine lives in {0}\", \"I know the address of that street, it is {0}\",\\\n",
        "    \"Mr. Absalon Adam lived before in {0}\", \"I like the resturants in {0}\", \"Check the map to find the directions to {0}\", \\\n",
        "    \"My friend Aksel will meet me in {0}\", \"Me and Adrian has a meeting in {0}\", \"Taxi driver can take you to {0}\", \\\n",
        "      \"Stay away of {0}\", \"His address is {0}\", \"My cousine lives in {0}\", \"I like shops in {0}\", \"Let us drive to {0}\", \\\n",
        "      \"Do you like this street?\", \"I walk everyday in that place\", \"{0}, this is my current address\", \"{0} is awesome place\"\n",
        "]\n",
        "\n",
        "# prepare the new training dataset based on the data collected from the street addresses in Kalundborg city in Denmark\n",
        "def prepare_training_data():\n",
        "  \n",
        "    for index, item in addresses_df.iterrows():\n",
        "        sentence_pholder_idx = np.random.randint(0, len(sentences_templates), size=1)[0]\n",
        "        sentence_pholder = sentences_templates[sentence_pholder_idx]\n",
        "    \n",
        "        street_address = item['Street Name'] + \" \" + str(item['road code'])\n",
        "        if '{0}' in sentence_pholder:\n",
        "            if item['Additional city name'] != '':\n",
        "                if item['Additional city name'] != np.nan and str(item['Additional city name']) != 'nan':\n",
        "                    street_address = street_address + \", \"+ item['Additional city name']\n",
        "\n",
        "            street_address = street_address + \", \"+ item['Municipality']\n",
        "            start_idx = sentence_pholder.find('{0}')\n",
        "            new_sentence = sentence_pholder.replace('{0}', street_address)\n",
        "            end_idx = start_idx + len(street_address)\n",
        "            \n",
        "            training_data.append((new_sentence, {\n",
        "            'entities': [(start_idx, end_idx, label)]\n",
        "            }))\n",
        "        else:\n",
        "            new_sentence = sentence_pholder\n",
        "            \n",
        "            training_data.append((new_sentence, {\n",
        "            'entities': []\n",
        "            }))\n",
        "            \n",
        "    return training_data\n",
        "\n",
        "dataset = prepare_training_data()\n",
        "\n",
        "'''\n",
        "# Add few random examples for the existing entity types to our training dataset\n",
        "dataset.insert(10, ('Who is Shaka Khan?', {\n",
        "        'entities': [(7, 17, 'PERSON')]\n",
        "}))\n",
        "\n",
        "dataset.insert(300, ('Who is Bill Gates?', {\n",
        "        'entities': [(7, 17, 'PERSON')]\n",
        "}))\n",
        "\n",
        "dataset.insert(600, ('Steve Jobs was a genius but work holic.', {\n",
        "        'entities': [(0, 10, 'PERSON')]\n",
        "}))\n",
        "\n",
        "dataset.insert(1200, ('I like London and Berlin.', {\n",
        "        'entities': [(7, 13, 'LOC'), (18, 24, 'LOC')]\n",
        "    }))\n",
        "\n",
        "dataset.insert(1800, ('I like Cairo and Turkey.', {\n",
        "        'entities': [(7, 12, 'LOC'), (18, 24, 'LOC')]\n",
        "    }))\n",
        "'''\n",
        "\n",
        "# I will consider only 4000 instances during the training of the NER model (just to expedite the training process in that demo scenario)   \n",
        "train_dataset = dataset[:4000]\n",
        "\n",
        "# pick 500 instaces as our test dataset\n",
        "test_dataset = dataset[10000:10500]\n",
        "\n",
        "# View 10 sentences from the new training dataset\n",
        "train_dataset[1000:1010]"
      ],
      "execution_count": 17,
      "outputs": [
        {
          "output_type": "execute_result",
          "data": {
            "text/plain": [
              "[('His address is Eskebjergvej 368, Kalundborg',\n",
              "  {'entities': [(15, 43, 'STREET_NAME')]}),\n",
              " ('His address is Vestervej 1989, Kalundborg',\n",
              "  {'entities': [(15, 41, 'STREET_NAME')]}),\n",
              " ('Stay away of Skippingevej 1496, Særslev, Kalundborg',\n",
              "  {'entities': [(13, 51, 'STREET_NAME')]}),\n",
              " ('Dagliljevej 243, Kalundborg is awesome place',\n",
              "  {'entities': [(0, 27, 'STREET_NAME')]}),\n",
              " ('I like the resturants in Græsmarkvej 538, Kalundborg',\n",
              "  {'entities': [(25, 52, 'STREET_NAME')]}),\n",
              " ('I like shops in Solbakken 1591, Kalundborg',\n",
              "  {'entities': [(16, 42, 'STREET_NAME')]}),\n",
              " ('I like the resturants in Bakkevangen 2107, Kalundborg',\n",
              "  {'entities': [(25, 53, 'STREET_NAME')]}),\n",
              " ('His address is Vestre Havneplads 1992, Kalundborg',\n",
              "  {'entities': [(15, 49, 'STREET_NAME')]}),\n",
              " ('Mr. Absalon Adam lived before in Sofievej 1587, Kalundborg',\n",
              "  {'entities': [(33, 58, 'STREET_NAME')]}),\n",
              " ('Stay away of Alleshavevej 31, Kalundborg',\n",
              "  {'entities': [(13, 40, 'STREET_NAME')]})]"
            ]
          },
          "metadata": {
            "tags": []
          },
          "execution_count": 17
        }
      ]
    },
    {
      "metadata": {
        "id": "lNPTBSEybGPI",
        "colab_type": "code",
        "colab": {}
      },
      "cell_type": "code",
      "source": [
        "# This function is to update and retrain the NER model for the new custom entity type from the new training dataset \n",
        "\n",
        "def train_NER_model(new_model_name, label_name, model=None,output_dir=None, n_iter=20):\n",
        "  \n",
        "    \"\"\"Set up the pipeline and entity recognizer, and train the new entity.\"\"\"\n",
        "    if model is not None:\n",
        "        nlp = spacy.load(model)  # load existing spaCy model\n",
        "        print(\"Loaded model '%s'\" % model)\n",
        "    else:\n",
        "        nlp = spacy.blank('en')  # create blank Language class\n",
        "        print(\"Created blank 'en' model\")\n",
        "        \n",
        "    # Add entity recognizer to model if it's not in the pipeline\n",
        "    # nlp.create_pipe works for built-ins that are registered with spaCy\n",
        "    if 'ner' not in nlp.pipe_names:\n",
        "        ner = nlp.create_pipe('ner')\n",
        "        nlp.add_pipe(ner)\n",
        "    # otherwise, get it, so we can add labels to it\n",
        "    else:\n",
        "        ner = nlp.get_pipe('ner')\n",
        "    \n",
        "    ner.add_label(label_name)   # add new entity label to entity recognizer\n",
        "    if model is None:\n",
        "        nlp.vocab.vectors.name = 'spacy_pretrained_vectors'\n",
        "        optimizer = nlp.begin_training()\n",
        "    else:\n",
        "        # Note that 'begin_training' initializes the models, so it'll zero out\n",
        "        # existing entity types.\n",
        "        optimizer = nlp.entity.create_optimizer()\n",
        "\n",
        "    # get names of other pipes to disable them during training\n",
        "    other_pipes = [pipe for pipe in nlp.pipe_names if pipe != 'ner']\n",
        "    with nlp.disable_pipes(*other_pipes):  # only train NER\n",
        "        for itn in range(n_iter):\n",
        "            random.shuffle(train_dataset)\n",
        "            losses = {}\n",
        "            \n",
        "            # batch up the examples using spaCy's minibatch\n",
        "            batches = minibatch(train_dataset, size=compounding(4., 32., 1.001))\n",
        "            for batch in batches:\n",
        "                texts, annotations = zip(*batch)\n",
        "                nlp.update(texts, annotations, sgd=optimizer, drop=0.5,\n",
        "                           losses=losses)\n",
        "            print('Losses', losses)\n",
        "    \n",
        "    \n",
        "    # save the trained model to output directory\n",
        "    if output_dir is not None:\n",
        "      nlp.meta['name'] = new_model_name\n",
        "      save_updated_NER_model(nlp, output_dir)\n",
        "        \n",
        "    return nlp\n",
        "\n",
        "# save the trained model to output directory\n",
        "def save_updated_NER_model(model, output_dir):\n",
        "    output_dir = Path(output_dir)\n",
        "    if not output_dir.exists():\n",
        "        output_dir.mkdir()\n",
        "    \n",
        "    model.to_disk(output_dir)\n",
        "    print(\"Final model saved to\", output_dir)\n",
        "    \n",
        "# load the trained NER model    \n",
        "def load_trained_NER_model(output_dir):\n",
        "    # load the trained model\n",
        "    print(\"Loading from\", output_dir)\n",
        "    nlp_model = spacy.load(output_dir)\n",
        "    return nlp_model\n",
        "  \n",
        "# test the trained model  \n",
        "def test_NER_model(nlp_model, document_test, show_entities=True, style_sentence=True):\n",
        "    document = nlp_model(document_test)\n",
        "    \n",
        "    if show_entities:\n",
        "      for entities in document.ents:\n",
        "          print(entities.label_, entities.text)\n",
        "          \n",
        "    if style_sentence:\n",
        "      colors = {'STREET_NAME': 'linear-gradient(90deg, #aa9cfc, #fc9ce7)'}\n",
        "      displacy.render(document, jupyter=True, style='ent', options={'colors': colors})\n",
        "\n",
        "# choose random instances batch from the testing dataset to evaluate the trained NER model against unseen instances.    \n",
        "def test_samples_batch(model, test_set=test_dataset, samples_no=10):\n",
        "    \n",
        "    for i in range(0, samples_no):\n",
        "      test_sample_idx = np.random.randint(0, len(test_set), size=1)[0]\n",
        "      test_doc = test_set[test_sample_idx][0]\n",
        "      \n",
        "      test_NER_model(model, test_doc, show_entities=False)"
      ],
      "execution_count": 0,
      "outputs": []
    },
    {
      "metadata": {
        "id": "O95Aedy6bGPM",
        "colab_type": "code",
        "outputId": "0baafb63-7332-4ce2-8930-ec71acf17d78",
        "colab": {
          "base_uri": "https://localhost:8080/",
          "height": 221
        }
      },
      "cell_type": "code",
      "source": [
        "out_dir='/content/drive/My Drive/Colab Notebooks/output'\n",
        "\n",
        "nlp_model = train_NER_model(new_model_name='street_names_model', label_name=label,output_dir=out_dir, n_iter=10)"
      ],
      "execution_count": 23,
      "outputs": [
        {
          "output_type": "stream",
          "text": [
            "Created blank 'en' model\n",
            "Losses {'ner': 47.34154281312178}\n",
            "Losses {'ner': 1.047594028917558}\n",
            "Losses {'ner': 1.9571338721843157}\n",
            "Losses {'ner': 0.49388970918499897}\n",
            "Losses {'ner': 0.09628244856817397}\n",
            "Losses {'ner': 0.6681397374638589}\n",
            "Losses {'ner': 0.08163265883922764}\n",
            "Losses {'ner': 0.809048720085724}\n",
            "Losses {'ner': 0.5977721174947469}\n",
            "Losses {'ner': 0.357674739472754}\n",
            "Final model saved to /content/drive/My Drive/Colab Notebooks/output\n"
          ],
          "name": "stdout"
        }
      ]
    },
    {
      "metadata": {
        "id": "507HdjYcbGPP",
        "colab_type": "code",
        "outputId": "5ddf7dff-28ea-448b-9b57-dab29c567c63",
        "colab": {
          "base_uri": "https://localhost:8080/",
          "height": 311
        }
      },
      "cell_type": "code",
      "source": [
        "# load the trained model\n",
        "nlp_trained_model = load_trained_NER_model(output_dir=out_dir)\n",
        "\n",
        "# test the trained model\n",
        "sample_docs = [\"Mr. Absalon Adam lived before in Sine Olsensvej 1479, Svallerup, Kalundborg\",\n",
        "               \"I live currently in Absalonsvej 4, Bjerge Str, Copenhagen City, Denmark\",\n",
        "               \"His address is Elledevej 317, Kalundborg\",\n",
        "               \"Mr. Charles B. Evans is a consular officer, Department of State, Nouakchott Place 33, Washington DC\",\n",
        "               \"I live in Union Square 23, San Francisco.\"]\n",
        "\n",
        "for test_doc in sample_docs:\n",
        "  test_NER_model(nlp_trained_model, test_doc)"
      ],
      "execution_count": 40,
      "outputs": [
        {
          "output_type": "stream",
          "text": [
            "Loading from /content/drive/My Drive/Colab Notebooks/output\n",
            "STREET_NAME Sine Olsensvej 1479, Svallerup, Kalundborg\n"
          ],
          "name": "stdout"
        },
        {
          "output_type": "display_data",
          "data": {
            "text/html": [
              "<div class=\"entities\" style=\"line-height: 2.5\">Mr. Absalon Adam lived before in \n",
              "<mark class=\"entity\" style=\"background: linear-gradient(90deg, #aa9cfc, #fc9ce7); padding: 0.45em 0.6em; margin: 0 0.25em; line-height: 1; border-radius: 0.35em; box-decoration-break: clone; -webkit-box-decoration-break: clone\">\n",
              "    Sine Olsensvej 1479, Svallerup, Kalundborg\n",
              "    <span style=\"font-size: 0.8em; font-weight: bold; line-height: 1; border-radius: 0.35em; text-transform: uppercase; vertical-align: middle; margin-left: 0.5rem\">STREET_NAME</span>\n",
              "</mark>\n",
              "</div>"
            ],
            "text/plain": [
              "<IPython.core.display.HTML object>"
            ]
          },
          "metadata": {
            "tags": []
          }
        },
        {
          "output_type": "stream",
          "text": [
            "STREET_NAME Absalonsvej 4, Bjerge Str, Copenhagen City, Denmark\n"
          ],
          "name": "stdout"
        },
        {
          "output_type": "display_data",
          "data": {
            "text/html": [
              "<div class=\"entities\" style=\"line-height: 2.5\">I live currently in \n",
              "<mark class=\"entity\" style=\"background: linear-gradient(90deg, #aa9cfc, #fc9ce7); padding: 0.45em 0.6em; margin: 0 0.25em; line-height: 1; border-radius: 0.35em; box-decoration-break: clone; -webkit-box-decoration-break: clone\">\n",
              "    Absalonsvej 4, Bjerge Str, Copenhagen City, Denmark\n",
              "    <span style=\"font-size: 0.8em; font-weight: bold; line-height: 1; border-radius: 0.35em; text-transform: uppercase; vertical-align: middle; margin-left: 0.5rem\">STREET_NAME</span>\n",
              "</mark>\n",
              "</div>"
            ],
            "text/plain": [
              "<IPython.core.display.HTML object>"
            ]
          },
          "metadata": {
            "tags": []
          }
        },
        {
          "output_type": "stream",
          "text": [
            "STREET_NAME Elledevej 317, Kalundborg\n"
          ],
          "name": "stdout"
        },
        {
          "output_type": "display_data",
          "data": {
            "text/html": [
              "<div class=\"entities\" style=\"line-height: 2.5\">His address is \n",
              "<mark class=\"entity\" style=\"background: linear-gradient(90deg, #aa9cfc, #fc9ce7); padding: 0.45em 0.6em; margin: 0 0.25em; line-height: 1; border-radius: 0.35em; box-decoration-break: clone; -webkit-box-decoration-break: clone\">\n",
              "    Elledevej 317, Kalundborg\n",
              "    <span style=\"font-size: 0.8em; font-weight: bold; line-height: 1; border-radius: 0.35em; text-transform: uppercase; vertical-align: middle; margin-left: 0.5rem\">STREET_NAME</span>\n",
              "</mark>\n",
              "</div>"
            ],
            "text/plain": [
              "<IPython.core.display.HTML object>"
            ]
          },
          "metadata": {
            "tags": []
          }
        },
        {
          "output_type": "stream",
          "text": [
            "STREET_NAME Mr. Charles B. Evans is\n",
            "STREET_NAME State, Nouakchott Place 33, Washington DC\n"
          ],
          "name": "stdout"
        },
        {
          "output_type": "display_data",
          "data": {
            "text/html": [
              "<div class=\"entities\" style=\"line-height: 2.5\">\n",
              "<mark class=\"entity\" style=\"background: linear-gradient(90deg, #aa9cfc, #fc9ce7); padding: 0.45em 0.6em; margin: 0 0.25em; line-height: 1; border-radius: 0.35em; box-decoration-break: clone; -webkit-box-decoration-break: clone\">\n",
              "    Mr. Charles B. Evans is\n",
              "    <span style=\"font-size: 0.8em; font-weight: bold; line-height: 1; border-radius: 0.35em; text-transform: uppercase; vertical-align: middle; margin-left: 0.5rem\">STREET_NAME</span>\n",
              "</mark>\n",
              " a consular officer, Department of \n",
              "<mark class=\"entity\" style=\"background: linear-gradient(90deg, #aa9cfc, #fc9ce7); padding: 0.45em 0.6em; margin: 0 0.25em; line-height: 1; border-radius: 0.35em; box-decoration-break: clone; -webkit-box-decoration-break: clone\">\n",
              "    State, Nouakchott Place 33, Washington DC\n",
              "    <span style=\"font-size: 0.8em; font-weight: bold; line-height: 1; border-radius: 0.35em; text-transform: uppercase; vertical-align: middle; margin-left: 0.5rem\">STREET_NAME</span>\n",
              "</mark>\n",
              "</div>"
            ],
            "text/plain": [
              "<IPython.core.display.HTML object>"
            ]
          },
          "metadata": {
            "tags": []
          }
        },
        {
          "output_type": "stream",
          "text": [
            "STREET_NAME Union Square 23, San Francisco.\n"
          ],
          "name": "stdout"
        },
        {
          "output_type": "display_data",
          "data": {
            "text/html": [
              "<div class=\"entities\" style=\"line-height: 2.5\">I live in \n",
              "<mark class=\"entity\" style=\"background: linear-gradient(90deg, #aa9cfc, #fc9ce7); padding: 0.45em 0.6em; margin: 0 0.25em; line-height: 1; border-radius: 0.35em; box-decoration-break: clone; -webkit-box-decoration-break: clone\">\n",
              "    Union Square 23, San Francisco.\n",
              "    <span style=\"font-size: 0.8em; font-weight: bold; line-height: 1; border-radius: 0.35em; text-transform: uppercase; vertical-align: middle; margin-left: 0.5rem\">STREET_NAME</span>\n",
              "</mark>\n",
              "</div>"
            ],
            "text/plain": [
              "<IPython.core.display.HTML object>"
            ]
          },
          "metadata": {
            "tags": []
          }
        }
      ]
    },
    {
      "metadata": {
        "id": "ncH7CGO5pQ-l",
        "colab_type": "code",
        "colab": {
          "base_uri": "https://localhost:8080/",
          "height": 367
        },
        "outputId": "5a7fc5de-07e6-4d2d-bca2-aff8d9578aa8"
      },
      "cell_type": "code",
      "source": [
        "# Check batch of instances randomly picked from the testing dataset\n",
        "\n",
        "test_samples_batch(nlp_trained_model, test_dataset)"
      ],
      "execution_count": 49,
      "outputs": [
        {
          "output_type": "display_data",
          "data": {
            "text/html": [
              "<div class=\"entities\" style=\"line-height: 2.5\">I know the address of that street, it is \n",
              "<mark class=\"entity\" style=\"background: linear-gradient(90deg, #aa9cfc, #fc9ce7); padding: 0.45em 0.6em; margin: 0 0.25em; line-height: 1; border-radius: 0.35em; box-decoration-break: clone; -webkit-box-decoration-break: clone\">\n",
              "    Tystrupvej 1871, Kalundborg\n",
              "    <span style=\"font-size: 0.8em; font-weight: bold; line-height: 1; border-radius: 0.35em; text-transform: uppercase; vertical-align: middle; margin-left: 0.5rem\">STREET_NAME</span>\n",
              "</mark>\n",
              "</div>"
            ],
            "text/plain": [
              "<IPython.core.display.HTML object>"
            ]
          },
          "metadata": {
            "tags": []
          }
        },
        {
          "output_type": "display_data",
          "data": {
            "text/html": [
              "<div class=\"entities\" style=\"line-height: 2.5\">Me and Adrian has a meeting in \n",
              "<mark class=\"entity\" style=\"background: linear-gradient(90deg, #aa9cfc, #fc9ce7); padding: 0.45em 0.6em; margin: 0 0.25em; line-height: 1; border-radius: 0.35em; box-decoration-break: clone; -webkit-box-decoration-break: clone\">\n",
              "    Anemonevej 38, Kalundborg\n",
              "    <span style=\"font-size: 0.8em; font-weight: bold; line-height: 1; border-radius: 0.35em; text-transform: uppercase; vertical-align: middle; margin-left: 0.5rem\">STREET_NAME</span>\n",
              "</mark>\n",
              "</div>"
            ],
            "text/plain": [
              "<IPython.core.display.HTML object>"
            ]
          },
          "metadata": {
            "tags": []
          }
        },
        {
          "output_type": "display_data",
          "data": {
            "text/html": [
              "<div class=\"entities\" style=\"line-height: 2.5\">Check the map to find the directions to \n",
              "<mark class=\"entity\" style=\"background: linear-gradient(90deg, #aa9cfc, #fc9ce7); padding: 0.45em 0.6em; margin: 0 0.25em; line-height: 1; border-radius: 0.35em; box-decoration-break: clone; -webkit-box-decoration-break: clone\">\n",
              "    Gartnervænget 487, Kalundborg\n",
              "    <span style=\"font-size: 0.8em; font-weight: bold; line-height: 1; border-radius: 0.35em; text-transform: uppercase; vertical-align: middle; margin-left: 0.5rem\">STREET_NAME</span>\n",
              "</mark>\n",
              "</div>"
            ],
            "text/plain": [
              "<IPython.core.display.HTML object>"
            ]
          },
          "metadata": {
            "tags": []
          }
        },
        {
          "output_type": "display_data",
          "data": {
            "text/html": [
              "<div class=\"entities\" style=\"line-height: 2.5\">I live in \n",
              "<mark class=\"entity\" style=\"background: linear-gradient(90deg, #aa9cfc, #fc9ce7); padding: 0.45em 0.6em; margin: 0 0.25em; line-height: 1; border-radius: 0.35em; box-decoration-break: clone; -webkit-box-decoration-break: clone\">\n",
              "    Korsbækvej 920, Kalundborg\n",
              "    <span style=\"font-size: 0.8em; font-weight: bold; line-height: 1; border-radius: 0.35em; text-transform: uppercase; vertical-align: middle; margin-left: 0.5rem\">STREET_NAME</span>\n",
              "</mark>\n",
              "</div>"
            ],
            "text/plain": [
              "<IPython.core.display.HTML object>"
            ]
          },
          "metadata": {
            "tags": []
          }
        },
        {
          "output_type": "display_data",
          "data": {
            "text/html": [
              "<div class=\"entities\" style=\"line-height: 2.5\">Let us drive to \n",
              "<mark class=\"entity\" style=\"background: linear-gradient(90deg, #aa9cfc, #fc9ce7); padding: 0.45em 0.6em; margin: 0 0.25em; line-height: 1; border-radius: 0.35em; box-decoration-break: clone; -webkit-box-decoration-break: clone\">\n",
              "    Kattrupvej 834, Buerup, Kalundborg\n",
              "    <span style=\"font-size: 0.8em; font-weight: bold; line-height: 1; border-radius: 0.35em; text-transform: uppercase; vertical-align: middle; margin-left: 0.5rem\">STREET_NAME</span>\n",
              "</mark>\n",
              "</div>"
            ],
            "text/plain": [
              "<IPython.core.display.HTML object>"
            ]
          },
          "metadata": {
            "tags": []
          }
        },
        {
          "output_type": "display_data",
          "data": {
            "text/html": [
              "<div class=\"entities\" style=\"line-height: 2.5\">\n",
              "<mark class=\"entity\" style=\"background: linear-gradient(90deg, #aa9cfc, #fc9ce7); padding: 0.45em 0.6em; margin: 0 0.25em; line-height: 1; border-radius: 0.35em; box-decoration-break: clone; -webkit-box-decoration-break: clone\">\n",
              "    Møllebakken 1180, Kalundborg\n",
              "    <span style=\"font-size: 0.8em; font-weight: bold; line-height: 1; border-radius: 0.35em; text-transform: uppercase; vertical-align: middle; margin-left: 0.5rem\">STREET_NAME</span>\n",
              "</mark>\n",
              " is awesome place</div>"
            ],
            "text/plain": [
              "<IPython.core.display.HTML object>"
            ]
          },
          "metadata": {
            "tags": []
          }
        },
        {
          "output_type": "display_data",
          "data": {
            "text/html": [
              "<div class=\"entities\" style=\"line-height: 2.5\">\n",
              "<mark class=\"entity\" style=\"background: linear-gradient(90deg, #aa9cfc, #fc9ce7); padding: 0.45em 0.6em; margin: 0 0.25em; line-height: 1; border-radius: 0.35em; box-decoration-break: clone; -webkit-box-decoration-break: clone\">\n",
              "    Thyges Banke 1776, Kalundborg\n",
              "    <span style=\"font-size: 0.8em; font-weight: bold; line-height: 1; border-radius: 0.35em; text-transform: uppercase; vertical-align: middle; margin-left: 0.5rem\">STREET_NAME</span>\n",
              "</mark>\n",
              " is awesome place</div>"
            ],
            "text/plain": [
              "<IPython.core.display.HTML object>"
            ]
          },
          "metadata": {
            "tags": []
          }
        },
        {
          "output_type": "display_data",
          "data": {
            "text/html": [
              "<div class=\"entities\" style=\"line-height: 2.5\">My cousine lives in \n",
              "<mark class=\"entity\" style=\"background: linear-gradient(90deg, #aa9cfc, #fc9ce7); padding: 0.45em 0.6em; margin: 0 0.25em; line-height: 1; border-radius: 0.35em; box-decoration-break: clone; -webkit-box-decoration-break: clone\">\n",
              "    Klosterparkvej 885, Kalundborg\n",
              "    <span style=\"font-size: 0.8em; font-weight: bold; line-height: 1; border-radius: 0.35em; text-transform: uppercase; vertical-align: middle; margin-left: 0.5rem\">STREET_NAME</span>\n",
              "</mark>\n",
              "</div>"
            ],
            "text/plain": [
              "<IPython.core.display.HTML object>"
            ]
          },
          "metadata": {
            "tags": []
          }
        },
        {
          "output_type": "display_data",
          "data": {
            "text/html": [
              "<div class=\"entities\" style=\"line-height: 2.5\">His address is \n",
              "<mark class=\"entity\" style=\"background: linear-gradient(90deg, #aa9cfc, #fc9ce7); padding: 0.45em 0.6em; margin: 0 0.25em; line-height: 1; border-radius: 0.35em; box-decoration-break: clone; -webkit-box-decoration-break: clone\">\n",
              "    Raklev Høje 1346, Kalundborg\n",
              "    <span style=\"font-size: 0.8em; font-weight: bold; line-height: 1; border-radius: 0.35em; text-transform: uppercase; vertical-align: middle; margin-left: 0.5rem\">STREET_NAME</span>\n",
              "</mark>\n",
              "</div>"
            ],
            "text/plain": [
              "<IPython.core.display.HTML object>"
            ]
          },
          "metadata": {
            "tags": []
          }
        },
        {
          "output_type": "display_data",
          "data": {
            "text/html": [
              "<div class=\"entities\" style=\"line-height: 2.5\">Taxi driver can take you to \n",
              "<mark class=\"entity\" style=\"background: linear-gradient(90deg, #aa9cfc, #fc9ce7); padding: 0.45em 0.6em; margin: 0 0.25em; line-height: 1; border-radius: 0.35em; box-decoration-break: clone; -webkit-box-decoration-break: clone\">\n",
              "    Kordilgade 918, Kalundborg\n",
              "    <span style=\"font-size: 0.8em; font-weight: bold; line-height: 1; border-radius: 0.35em; text-transform: uppercase; vertical-align: middle; margin-left: 0.5rem\">STREET_NAME</span>\n",
              "</mark>\n",
              "</div>"
            ],
            "text/plain": [
              "<IPython.core.display.HTML object>"
            ]
          },
          "metadata": {
            "tags": []
          }
        }
      ]
    }
  ]
}